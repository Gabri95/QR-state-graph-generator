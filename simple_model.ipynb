{
 "cells": [
  {
   "cell_type": "code",
   "execution_count": 1,
   "metadata": {},
   "outputs": [
    {
     "name": "stdout",
     "output_type": "stream",
     "text": [
      "adding V as P source for O\n",
      "adding I as I source for V\n",
      "\tadding I as I source for O\n",
      "adding O as I source for V\n",
      "\tadding O as I source for O\n"
     ]
    }
   ],
   "source": [
    "from qr_model import *\n",
    "from qr_reasoner import *\n",
    "\n",
    "\n",
    "file_name = 'simple_extended_graph.png'\n",
    "kill=1\n",
    "            \n",
    "\n",
    "\n",
    "variables = [\n",
    "    #Variable('I', ['0', '+', 'max'], [False, True, False]),\n",
    "    Variable('I', ['0', '+'], [False, True]),\n",
    "    Variable('V', ['0', '+', 'max'], [False, True, False]),\n",
    "    Variable('O', ['0', '+', 'max'], [False, True, False])\n",
    "    #Variable('O', ['0', '+'], [False, True])\n",
    "]\n",
    "\n",
    "model = Model(variables)\n",
    "\n",
    "model.addVConstraint(lambda variables : (variables['O'].val == 2 and variables['V'].val == 2) or (variables['O'].val != 2 and variables['V'].val != 2))\n",
    "model.addVConstraint(lambda variables : (variables['O'].val == 0 and variables['V'].val == 0) or (variables['O'].val != 0 and variables['V'].val != 0))\n",
    "\n",
    "model.addPConstraint(True, 'V', 'O')\n",
    "\n",
    "model.addIConstraint(True, 'I', 'V')\n",
    "model.addIConstraint(False, 'O', 'V')"
   ]
  },
  {
   "cell_type": "code",
   "execution_count": 2,
   "metadata": {},
   "outputs": [
    {
     "name": "stdout",
     "output_type": "stream",
     "text": [
      "I\n",
      "\tI+ -> V\n",
      "\tI+ -> O\n",
      "V\n",
      "\tP+ -> O\n",
      "O\n",
      "\tI+ -> V\n",
      "\tI+ -> O\n",
      "I\n",
      "V\n",
      "\tI+ <- I\n",
      "\tI+ <- O\n",
      "O\n",
      "\tP+ <- V\n",
      "\tI+ <- I\n",
      "\tI+ <- O\n"
     ]
    }
   ],
   "source": [
    "for v in model.variables:\n",
    "    print(v.name)\n",
    "    for var, incr in v.p_source.items():\n",
    "        print('\\tP' + ('+' if incr else '-') + ' -> ' + var )\n",
    "    \n",
    "    for var, incr in v.i_source.items():\n",
    "        print('\\tI' + ('+' if incr else '-') + ' -> ' + var )\n",
    "\n",
    "for v in model.variables:\n",
    "    print(v.name)\n",
    "    for var, incr in v.p_target.items():\n",
    "        print('\\tP' + ('+' if incr else '-') + ' <- ' + var )\n",
    "    \n",
    "    for var, incr in v.i_target.items():\n",
    "        print('\\tI' + ('+' if incr else '-') + ' <- ' + var )\n",
    "        "
   ]
  },
  {
   "cell_type": "code",
   "execution_count": 3,
   "metadata": {
    "collapsed": true
   },
   "outputs": [],
   "source": [
    "state_graph = envisioning(np.array([0, 0, 0], dtype=int), np.array([0, 0, 0], dtype=int), model, 'I', kill=kill)\n",
    "state_graph = envisioning(np.array([0, 0, 0], dtype=int), np.array([1, 0, 0], dtype=int), model, 'I', graph=state_graph, kill=kill)"
   ]
  },
  {
   "cell_type": "code",
   "execution_count": 4,
   "metadata": {},
   "outputs": [
    {
     "name": "stdout",
     "output_type": "stream",
     "text": [
      "64\n",
      "42\n"
     ]
    }
   ],
   "source": [
    "print(len(state_graph.nodes()))\n",
    "\n",
    "count = 0\n",
    "for n in state_graph.nodes():\n",
    "    if n.attr['validity'] == 'True':\n",
    "        count +=1\n",
    "print(count)\n",
    "\n",
    "state_graph.layout(prog='dot')\n",
    "\n",
    "\n",
    "state_graph.draw(file_name)"
   ]
  }
 ],
 "metadata": {
  "kernelspec": {
   "display_name": "Python 3",
   "language": "python",
   "name": "python3"
  },
  "language_info": {
   "codemirror_mode": {
    "name": "ipython",
    "version": 3
   },
   "file_extension": ".py",
   "mimetype": "text/x-python",
   "name": "python",
   "nbconvert_exporter": "python",
   "pygments_lexer": "ipython3",
   "version": "3.6.2"
  }
 },
 "nbformat": 4,
 "nbformat_minor": 2
}
